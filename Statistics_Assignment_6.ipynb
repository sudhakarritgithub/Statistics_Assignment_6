{
 "cells": [
  {
   "cell_type": "raw",
   "id": "0afe3cc1-ddc8-402c-875a-507ce25aaa62",
   "metadata": {},
   "source": [
    "                                                                                 STATISTICS ASSIGNMENT - 6"
   ]
  },
  {
   "cell_type": "raw",
   "id": "4365f7a4-3ca7-418a-af5a-ba03f7e1e4bb",
   "metadata": {},
   "source": []
  },
  {
   "cell_type": "raw",
   "id": "ff2f0faa-6f49-47f2-884a-fa8c39f0515b",
   "metadata": {},
   "source": []
  },
  {
   "cell_type": "raw",
   "id": "f418cfeb-ac26-4d5e-9c18-7f9ef112dc67",
   "metadata": {},
   "source": [
    "Ques.1 What is the difference between a t-test and a z-test? Provide an example scenario where you would use each type of test"
   ]
  },
  {
   "cell_type": "raw",
   "id": "2f57ee53-abd8-4901-a344-63d6ecd62201",
   "metadata": {},
   "source": [
    "The main difference between a t-test and a z-test lies in the situations where they are applicable, particularly in relation to sample size and whether the population standard deviation is known.\n",
    "\n",
    "T-test:\n",
    "\n",
    "Sample Size: Typically used when the sample size is small (less than 30) and the population standard deviation is unknown.\n",
    "Population Standard Deviation: Does not require knowledge of the population standard deviation.\n",
    "Example Scenario: Suppose you want to test if the mean weight of a sample of 20 students is significantly different from the population mean weight of students in the region. Since you do not know the population standard deviation, you would use a t-test to compare the sample mean to the population mean.\n",
    "\n",
    "Z-test:\n",
    "\n",
    "Sample Size: Used when the sample size is large (typically greater than 30) and the population standard deviation is known.\n",
    "Population Standard Deviation: Requires knowledge of the population standard deviation.\n",
    "Example Scenario: Imagine you have a sample of 100 customers and you want to test if the mean age of these customers is different from the known population mean age of customers in your database. In this case, because you know the population standard deviation (from your database), you can use a z-test to compare the sample mean to the population mean."
   ]
  },
  {
   "cell_type": "raw",
   "id": "9542df53-61a6-45b9-b083-35903d75700f",
   "metadata": {},
   "source": []
  },
  {
   "cell_type": "raw",
   "id": "98a5b4f5-f4e1-4fdc-b76d-5a3babc67050",
   "metadata": {},
   "source": [
    "Ques.2 Differentiate between one-tailed and two-tailed tests"
   ]
  },
  {
   "cell_type": "raw",
   "id": "7e7ded7c-b36d-4c6e-86db-5c02d9774d90",
   "metadata": {},
   "source": [
    "Key Differences:\n",
    "\n",
    "Focus of Hypothesis: One-tailed tests focus on a specific direction (increase or decrease), while two-tailed tests do not assume a specific direction.\n",
    "Critical Regions: One-tailed tests have a single critical region (either in the upper or lower tail), while two-tailed tests have two critical regions (both tails).\n",
    "Application: The choice between one-tailed and two-tailed tests depends on the specific research question and hypothesis being tested. Generally, researchers should decide based on the directionality they expect in the relationship they are investigating."
   ]
  },
  {
   "cell_type": "raw",
   "id": "11b4fa0b-b845-40c9-b945-ab7e18070677",
   "metadata": {},
   "source": []
  },
  {
   "cell_type": "raw",
   "id": "d89c3423-ec77-46ee-a798-6a2888cdfbec",
   "metadata": {},
   "source": [
    "Ques.3 Explain the concept of Type 1 and Type 2 errors in hypothesis testing. Provide an example scenario for each type of error"
   ]
  },
  {
   "cell_type": "raw",
   "id": "e28e2ecf-50a0-4a5d-93ba-be2e8466142b",
   "metadata": {},
   "source": [
    "Type 1 Error:\n",
    "\n",
    "Definition: Type 1 error occurs when you reject a null hypothesis (H0) that is actually true. In other words, it's a false positive where you conclude there is a significant effect or difference when                 there isn't one.\n",
    "Significance Level: Type 1 errors are related to the significance level (α) chosen for the test. Commonly, α is set at 0.05, meaning there's a 5% chance of making a Type 1 error.\n",
    "Example Scenario: Let's say a pharmaceutical company tests a new drug to see if it lowers blood pressure. The null hypothesis (H0) states that the drug has no effect (mean blood pressure is the same as                     placebo). Due to random variability or other factors, the study might find a statistically significant difference in blood pressure between the drug and placebo groups (rejecting H0).                     However, in reality, the drug might not actually lower blood pressure; this significant result could be a Type 1 error.\n",
    "\n",
    "Type 2 Error:\n",
    "\n",
    "Definition: Type 2 error occurs when you fail to reject a null hypothesis (H0) that is actually false. In other words, it's a false negative where you conclude there is no significant effect or difference             when there actually is one.\n",
    "Statistical Power: Type 2 errors are influenced by statistical power (1 - β), which is the probability of correctly rejecting a false null hypothesis. Power is influenced by factors such as sample size,                      effect size, and variability.\n",
    "Example Scenario: Consider a clinical trial testing a new treatment for a disease. The null hypothesis (H0) is that the treatment has no effect (mean outcomes are the same between treated and control                       groups). Due to small sample size or insufficient statistical power, the study fails to find a significant difference in outcomes between the treatment and control groups (fails to                         reject H0). However, in reality, the treatment might actually be effective in improving outcomes; this non-significant result could be a Type 2 error."
   ]
  },
  {
   "cell_type": "raw",
   "id": "c45f809c-b92b-4b69-b6fc-a3f3d6f55514",
   "metadata": {},
   "source": []
  },
  {
   "cell_type": "raw",
   "id": "312e75a2-7890-4a05-91fe-ed2de78b92cf",
   "metadata": {},
   "source": [
    "Ques.4  Explain Bayes's theorem with an example"
   ]
  },
  {
   "cell_type": "raw",
   "id": "57f7fd17-6a2e-46f3-8750-b1bb936d8ed0",
   "metadata": {},
   "source": [
    "Bayes's theorem is a fundamental concept in probability theory that describes how to update the probability of a hypothesis based on new evidence or information. It is named after Thomas Bayes, an 18th-century British mathematician.\n",
    "\n",
    "Bayes's Theorem Formula:\n",
    "\n",
    "Bayes's theorem relates the conditional probability of an event A given 𝐵 to the conditional probability of B given A:P(A∣B)= P(B)P(B∣A)⋅P(A)​\n",
    "Where:\n",
    "P(A∣B) is the posterior probability of A given B (the probability of A given the evidence B),P(B∣A) is the likelihood of 𝐵 given A (the probability of the evidence 𝐵 given that 𝐴 is true),P(A) is the prior probability of A (the probability of A before considering B),P(B) is the probability of the evidence 𝐵(the total probability of B, also known as the marginal likelihood).\n",
    "\n",
    "Example Scenario:\n",
    "\n",
    "Let's illustrate Bayes's theorem with a medical testing example:\n",
    "\n",
    "Scenario:\n",
    "Suppose a certain disease affects 1% of the population. A test has been developed to detect this disease, and the test correctly identifies the disease (true positive rate) 95% of the time. However, it also produces false positives (incorrectly identifies healthy people as having the disease) 10% of the time.\n",
    "\n",
    "Now, if a person tests positive for the disease, what is the probability that they actually have the disease?\n",
    "\n",
    "Variables:\n",
    "\n",
    "A: Having the disease.\n",
    "B: Testing positive.\n",
    "\n",
    "Probabilities:Prior probability, P(A): 0.01 (1% of the population has the disease).Likelihood, P(B∣A): 0.95 (the test correctly identifies the disease 95% of the time).\n",
    "Probability of testing positive when not having the disease, P(B∣¬A): 0.10 (false positive rate, so 10% of healthy people test positive).\n",
    "Probability of not having the disease, P(¬A): 1 - P(A) = 0.99 (99% of the population does not have the disease)."
   ]
  },
  {
   "cell_type": "raw",
   "id": "be743eed-6932-4e26-a5b3-ada03350c06f",
   "metadata": {},
   "source": []
  },
  {
   "cell_type": "raw",
   "id": "9a48194d-26b9-4e2f-b712-40d60a89d448",
   "metadata": {},
   "source": [
    "ques.5 What is a confidence interval? How to calculate the confidence interval, explain with an example"
   ]
  },
  {
   "cell_type": "raw",
   "id": "84bd4065-8083-426e-942b-b96bf485997d",
   "metadata": {},
   "source": [
    "A confidence interval is a range of values that likely contains the true value of a population parameter. It quantifies the uncertainty associated with estimating a population parameter from a sample of data. Typically, it's expressed as an interval estimate with an associated confidence level that indicates the probability that the interval will contain the true population parameter if the sampling and estimation process is repeated multiple times.\n",
    "\n",
    "How to Calculate a Confidence Interval:\n",
    "\n",
    "Determine the Sample Mean and Sample Standard Deviation:\n",
    "Let's denote the sample mean as 𝑥ˉ and the sample standard deviation as s.\n",
    "\n",
    "Choose the Confidence Level:\n",
    "Commonly used confidence levels are 90%, 95%, and 99%. The confidence level represents the probability that the calculated confidence interval contains the true population parameter.\n",
    "Identify the Critical Value (Z-score or T-score):\n",
    "\n",
    "Depending on whether the population standard deviation is known or unknown, you'll use a Z-score (for large sample sizes or when the population standard deviation is known) or a T-score (for small sample sizes when the population standard deviation is unknown). You can find these values from statistical tables or using statistical software."
   ]
  },
  {
   "cell_type": "raw",
   "id": "ec594d85-ca0a-40e6-a11c-f2d4ec6b29b0",
   "metadata": {},
   "source": []
  },
  {
   "cell_type": "raw",
   "id": "6edcfa2b-c413-432c-a76b-282b72b32ad2",
   "metadata": {},
   "source": [
    "Ques.6  Use Bayes' Theorem to calculate the probability of an event occurring given prior knowledge of the event's probability and new evidence. Provide a sample problem and solution"
   ]
  },
  {
   "cell_type": "raw",
   "id": "76aba70f-465c-46d0-8ffb-0ffa19c1d12a",
   "metadata": {},
   "source": [
    "Sample Problem:\n",
    "Suppose a factory produces light bulbs, and historically, 5% of the bulbs are defective. A quality control inspector selects a bulb at random and tests it. The test correctly identifies a defective bulb 90% of the time, but it also incorrectly identifies a non-defective bulb as defective 5% of the time. If the inspector tests a bulb and finds it defective, what is the probability that the bulb is actually defective?\n",
    "\n",
    "Variables and Probabilities:Let D denote the event that the bulb is defective.Let T denote the event that the bulb tests positive (defective).\n",
    "Given:Prior probability P(D)=0.05 (5% of bulbs are defective).\n",
    "Probability of a positive test given the bulb is defective,P(T∣D)=0.90 (true positive rate).\n",
    "Probability of a positive test given the bulb is not defective (false positive rate), P(T∣¬D)=0.05.\n",
    "Probability of a non-defective bulb, P(¬D)=1−P(D)=0.95.\n",
    "Solution using Bayes' Theorem:\n",
    "Calculate the Probability of a Positive Test\n",
    "P(T):\n",
    "\n",
    "Use the law of total probability:P(T)=P(T∣D)⋅P(D)+P(T∣¬D)⋅P(¬D)\n",
    "P(T)=0.90⋅0.05+0.05⋅0.95\n",
    "P(T)=0.045+0.0475\n",
    "P(T)=0.0925\n",
    "\n",
    "Apply Bayes' Theorem to Calculate P(D∣T):\n",
    "\n",
    "Bayes' Theorem states: P(D∣T)= P(T)P(T∣D)⋅P(D)​\n",
    " \n",
    "\n",
    "Substitute the known values: P(D∣T)= 0.0925 \n",
    "P(D∣T)≈0.4865\n",
    "\n",
    "Therefore, the probability that the bulb is actually defective given that it tested positive for being defective (assuming the test result is accurate) is approximately \n",
    "0.4865, or 48.65%\n",
    "\n",
    "Interpretation:\n",
    "This result indicates that even though a positive test result suggests a defect, there is still less than a 50% chance that the bulb is truly defective. The relatively low prior probability of a defective bulb (5%) and the occurrence of false positive results (5% of non-defective bulbs) contribute to this outcome. Bayes' Theorem allows us to update our initial belief (prior probability) based on new evidence (test result) to arrive at a more informed probability (posterior probability)."
   ]
  },
  {
   "cell_type": "raw",
   "id": "9e3e7462-fa8a-4809-be1a-1720f5238c54",
   "metadata": {},
   "source": []
  },
  {
   "cell_type": "raw",
   "id": "5a05cfb3-a105-4aa7-9aee-8887d6e10253",
   "metadata": {},
   "source": [
    "Ques.7 Calculate the 95% confidence interval for a sample of data with a mean of 50 and a standard deviation of 5. Interpret the results"
   ]
  },
  {
   "cell_type": "raw",
   "id": "255097bf-a727-4bba-8990-28fce14e3bdb",
   "metadata": {},
   "source": [
    "Calculation:\n",
    "\n",
    "Given:\n",
    "\n",
    "Sample mean xˉ=50\n",
    "Population standard deviation σ=5\n",
    "Z-score for 95% confidence level (from standard normal distribution) is Z=1.96\n",
    "CI=50±1.96⋅ n​5​\n",
    " \n",
    "To interpret the results, we need to assume a sample size n. However, without a specific 𝑛, we can still proceed with the calculation and interpretation based on typical assumptions in statistical\n",
    "practice:\n",
    "Interpreting the Results:\n",
    "The confidence interval gives us a range of values within which we are 95% confident that the true population mean μ lies, based on our sample data.\n",
    "Lower Bound: 50−1.96⋅ n​ 5​ \n",
    "Upper Bound: 50+1.96⋅ n​ 5​ \n",
    "For a large enough sample size 𝑛, the 95% confidence interval would typically be interpreted as:CI=(50−margin of error,50+margin of error)\n",
    "Since \n",
    "σ (population standard deviation) is known and we are using the Z-score approach, this confidence interval assumes a normal distribution of the sample mean around the population mean.\n",
    "In practical terms, if we were to repeat this sampling process many times, we would expect that approximately 95% of the resulting confidence intervals would contain the true population mean \n",
    "μ. Therefore, the interval.(50−margin of error,50+margin of error) provides a measure of the precision of our estimate of the population mean based on the given sample data."
   ]
  },
  {
   "cell_type": "raw",
   "id": "6fa7b034-5b73-4252-90fd-0e446a66b53c",
   "metadata": {},
   "source": []
  },
  {
   "cell_type": "raw",
   "id": "36d42212-379b-41f5-bad7-333f90f5586a",
   "metadata": {},
   "source": [
    "Ques.8  What is the margin of error in a confidence interval? How does sample size affect the margin of error? Provide an example of a scenario where a larger sample size would result in a smaller margin of error"
   ]
  },
  {
   "cell_type": "raw",
   "id": "25e848f7-17c0-4577-aa20-6e5a6aa010c8",
   "metadata": {},
   "source": [
    "The margin of error in a confidence interval is a measure of the precision or accuracy of an estimate of a population parameter (such as the population mean or proportion) based on sample data. It quantifies the amount of uncertainty or variability around the point estimate (like the sample mean or sample proportion) due to sampling variability.\n",
    "\n",
    "Margin of Error Formula:\n",
    "The margin of error E for a confidence interval depends on several factors, primarily the:\n",
    "Confidence Level (CL): Typically expressed as a percentage (e.g., 90%, 95%, 99%).\n",
    "Standard Error (SE): A measure of how much the sample mean or proportion varies from sample to sample. It's calculated based on the sample standard deviation 𝑠(for means) or estimated standard deviation (for proportions) and the sample size n.\n",
    "Critical Value (CV): This is derived from the normal distribution (Z-score) or t-distribution, depending on whether the population standard deviation is known or unknown and the sample size.\n",
    "The general formula for the margin of error E in a confidence interval is:E = Critical Value × Standard Error"
   ]
  },
  {
   "cell_type": "raw",
   "id": "94de1435-2199-47ea-bb85-afcc43457815",
   "metadata": {},
   "source": []
  },
  {
   "cell_type": "raw",
   "id": "83dba166-54a1-44e5-a3dc-3f9f893d4510",
   "metadata": {},
   "source": [
    "Ques.9  Calculate the z-score for a data point with a value of 75, a population mean of 70, and a population standard deviation of 5. Interpret the results"
   ]
  },
  {
   "cell_type": "raw",
   "id": "4d811e78-70ff-4c9d-8dad-19e35a79f78a",
   "metadata": {},
   "source": [
    "To calculate the z-score of a data point, you use the formula: z=(x−μ)/σ\n",
    "where:\n",
    "x is the value of the data point,\n",
    "μ is the population mean,\n",
    "σ is the population standard deviation.\n",
    "\n",
    "Given:\n",
    "Value of the data point, x=75\n",
    "Population mean, μ=70\n",
    "Population standard deviation, σ=5\n",
    "Now, substitute these values into the formula: z= (75−70)/5\n",
    "z=1\n",
    "\n",
    "So, the z-score for the data point with a value of 75, given a population mean of 70 and a population standard deviation of 5, is 1\n",
    "\n",
    "Interpretation:\n",
    "A z-score of 1 means that the data point (75 in this case) is 1 standard deviation above the mean of the population. In other words, the value 75 is relatively close to the mean (which is 70), but slightly higher."
   ]
  },
  {
   "cell_type": "raw",
   "id": "f47f2d4b-d03a-4ba4-bee6-b518083dd834",
   "metadata": {},
   "source": []
  },
  {
   "cell_type": "raw",
   "id": "e988dd4e-62e0-4d37-b1ce-9f3ee80ef73d",
   "metadata": {},
   "source": [
    "Ques.10  In a study of the effectiveness of a new weight loss drug, a sample of 50 participants lost an average of 6 pounds with a standard deviation of 2.5 pounds. Conduct a                hypothesis test to determine if the drug is significantly effective at a 95% confidence level using a t-test "
   ]
  },
  {
   "cell_type": "raw",
   "id": "aed7a04f-53b3-4806-8dc9-0c7ae61cd44e",
   "metadata": {},
   "source": [
    "Step 1: State the hypotheses\n",
    "The null hypothesis (𝐻0) and alternative hypothesis (Ha) are:\n",
    "𝐻0 : μ=0\n",
    "𝐻𝑎 : 𝜇≠0\n",
    "Here, μ represents the population mean weight loss due to the drug.\n",
    "\n",
    "Step 2: Determine the significance level\n",
    "The significance level (α) is given as 0.05, which corresponds to a 95% confidence level.\n",
    "\n",
    "Step 3: Collect and summarize the data\n",
    "Given data:\n",
    "Sample size (n) = 50\n",
    "Sample mean (xˉ) = 6 pounds\n",
    "Sample standard deviation (𝑠) = 2.5 pounds\n",
    "\n",
    "Step 4: Compute the test statistic\n",
    "The test statistic for a t-test is given by:\n",
    "where xˉis the sample mean, 𝜇0 is the hypothesized population mean under the null hypothesis (which is 0 in this case), s is the sample standard deviation, and 𝑛 is the sample size.\n",
    "Substitute the given values:\n",
    "t=16.97\n",
    "\n",
    "Step 5: Determine the critical value\n",
    "Since we are conducting a two-tailed test with α=0.05, the critical value for a t-distribution with df=n−1=49 is approximately ±2.009.\n",
    "\n",
    "Step 6: Make a decision\n",
    "Compare the absolute value of the test statistic (∣t∣=16.97) with the critical value (2.009).\n",
    "Since ∣t∣=16.97 is much larger than 2.009, we reject the null hypothesis 𝐻0\n",
    "\n",
    "Step 7: Conclusion\n",
    "Based on the sample data and the results of the hypothesis test, there is sufficient evidence to conclude that the weight loss drug is significantly effective at the 95% confidence level. The average weight loss of 6 pounds observed in the sample is statistically significant."
   ]
  },
  {
   "cell_type": "raw",
   "id": "6fb90a51-de6b-4709-891a-f90b19152517",
   "metadata": {},
   "source": []
  },
  {
   "cell_type": "raw",
   "id": "dcf093d6-f898-4f28-8056-b5bb66e3ef4e",
   "metadata": {},
   "source": [
    "Ques.11  In a survey of 500 people, 65% reported being satisfied with their current job. Calculate the 95% confidence interval for the true proportion of people who are satisfied            with their job"
   ]
  },
  {
   "cell_type": "raw",
   "id": "ec1511db-9bdf-47b6-bcf0-cb69d6cd9acc",
   "metadata": {},
   "source": [
    "Step 1: Calculate the critical value z∗\n",
    "For a 95% confidence level, the critical value 𝑧∗ is approximately 1.96 (you can find this value from standard normal distribution tables or using statistical software).\n",
    "\n",
    "Step 2: Compute the standard error SE\n",
    "        SE ≈ 0.02134\n",
    "\n",
    "Step 3: Calculate the margin of error\n",
    "Margin of Error = 𝑧∗ × 𝑆𝐸\n",
    "Margin of Error=1.96×0.02134\n",
    "Margin of Error≈0.0418\n",
    "\n",
    "Step 4: Determine the confidence interval\n",
    "Now, construct the confidence interval:\n",
    "Lower Limit = 𝑝 −Margin of Error\n",
    "Lower Limit=0.65−0.0418\n",
    "Lower Limit≈0.6082\n",
    "Upper Limit = 𝑝 +Margin of Error\n",
    "Upper Limit=0.65+0.0418\n",
    "Upper Limit≈0.6918\n",
    "\n",
    "Step 5: Interpret the confidence interval\n",
    "The 95% confidence interval for the true proportion of people who are satisfied with their job is approximately (0.6082,0.6918)\n",
    "This means we are 95% confident that the true proportion of people who are satisfied with their job falls between 60.82% and 69.18%."
   ]
  },
  {
   "cell_type": "raw",
   "id": "a2c7a85c-d402-446b-977c-f27d064b01fb",
   "metadata": {},
   "source": []
  },
  {
   "cell_type": "raw",
   "id": "6ea93722-1884-40a4-b587-05ee10fce4a6",
   "metadata": {},
   "source": [
    "Ques.12 A researcher is testing the effectiveness of two different teaching methods on student performance. Sample A has a mean score of 85 with a standard deviation of 6, while             sample B has a mean score of 82 with a standard deviation of 5. Conduct a hypothesis test to determine if the two teaching methods have a significant difference in student           performance using a t-test with a significance level of 0.01"
   ]
  },
  {
   "cell_type": "raw",
   "id": "7e869adb-e723-4599-bca5-f89381310809",
   "metadata": {},
   "source": [
    "Step 1: State the hypotheses\n",
    "Null hypothesis (𝐻0): There is no difference in mean student scores between the two teaching methods.\n",
    "𝐻0 : 𝜇𝐴 = 𝜇𝐵\n",
    "Alternative hypothesis (𝐻𝑎 ): There is a difference in mean student scores between the two teaching methods.\n",
    "𝐻𝑎 : 𝜇𝐴 ≠ 𝜇𝐵\n",
    "\n",
    "Step 2: Determine the significance level\n",
    "The significance level (α) is given as 0.01, which corresponds to a confidence level of 99%.\n",
    "\n",
    "Step 3: Collect and summarize the data\n",
    "For sample A:\n",
    "Mean score (xˉA) = 85\n",
    "Standard deviation (sA) = 6\n",
    "Sample size (nA) is not provided, but since we are conducting a hypothesis test assuming equal sample sizes, we can proceed with the information given.\n",
    "For sample B:\n",
    "Mean score (xˉB) = 82\n",
    "Standard deviation (sB) = 5\n",
    "Sample size (nB) is not provided.\n",
    "\n",
    "Step 4: Compute the test statistic\n",
    "\n",
    "Step 5: Determine the critical value\n",
    "Since the test is two-tailed with α=0.01, the critical value for a t-distribution with df=2n−2 (where n is the sample size of each sample) is approximately ± 2.617 (you can find this value from the t-distribution table or using statistical software).\n",
    "\n",
    "Step 6: Make a decision\n",
    "Compare the absolute value of the test statistic ∣t∣ with the critical value 2.617.\n",
    "If ∣t∣ exceeds 2.617, we reject the null hypothesis H0 and conclude that there is a significant difference in student performance between the two teaching methods.\n",
    "\n",
    "Step 7: Conclusion\n",
    "Perform the calculations for ∣t∣ and compare it with 2.617 to make the final decision based on the test."
   ]
  },
  {
   "cell_type": "raw",
   "id": "06436f38-95c2-40d1-93e7-b788c86d4308",
   "metadata": {},
   "source": []
  },
  {
   "cell_type": "raw",
   "id": "33888edf-f944-4ec6-9ea4-709803246ba1",
   "metadata": {},
   "source": [
    "Ques.13  A population has a mean of 60 and a standard deviation of 8. A sample of 50 observations has a mean of 65. Calculate the 90% confidence interval for the true population              mean"
   ]
  },
  {
   "cell_type": "raw",
   "id": "6202c5d7-1de4-4638-99bb-1a1909a6bcc2",
   "metadata": {},
   "source": [
    "Step 1: Find the critical value z∗\n",
    "For a 90% confidence level,α/2=0.05. From the standard normal distribution table or using statistical software, z ∗ ≈ 1.645.\n",
    "\n",
    "Step 2: Calculate the standard error \n",
    "SE≈1.131\n",
    "\n",
    "Step 3: Calculate the margin of error\n",
    "Margin of Error = z∗ × SE\n",
    "Margin of Error=1.645×1.131\n",
    "Margin of Error≈1.8596\n",
    "\n",
    "Step 4: Determine the confidence interval\n",
    "Now, construct the confidence interval:\n",
    "Lower Limit = xˉ−Margin of Error\n",
    "Lower Limit=65−1.8596\n",
    "Lower Limit≈63.1404\n",
    "Upper Limit= xˉ+Margin of Error\n",
    "Upper Limit=65+1.8596\n",
    "Upper Limit≈66.8596\n",
    "\n",
    "Step 5: Interpret the confidence interval\n",
    "The 90% confidence interval for the true population mean is approximately (63.1404,66.8596)\n",
    "Therefore, we are 90% confident that the true population mean lies between 63.1404 and 66.8596."
   ]
  },
  {
   "cell_type": "raw",
   "id": "5886798b-e6a1-4ecc-bb12-7c73b35269c6",
   "metadata": {},
   "source": []
  },
  {
   "cell_type": "raw",
   "id": "c9cd20a2-8b79-4ce0-98bb-00156c9e3cd9",
   "metadata": {},
   "source": [
    "Ques.14  In a study of the effects of caffeine on reaction time, a sample of 30 participants had an average reaction time of 0.25 seconds with a standard deviation of 0.05 seconds.          Conduct a hypothesis test to determine if the caffeine has a significant effect on reaction time at a 90% confidence level using a t-test"
   ]
  },
  {
   "cell_type": "raw",
   "id": "0394ee56-a064-4dc2-a6e2-db6644368b18",
   "metadata": {},
   "source": [
    "Step 1: State the hypotheses\n",
    "Null hypothesis (H0): Caffeine has no effect on reaction time.\n",
    "𝐻0 : 𝜇 = 𝜇0\n",
    "where μ0 is the hypothesized population mean reaction time.\n",
    "Alternative hypothesis (Ha): Caffeine has an effect on reaction time.\n",
    "𝐻𝑎 : 𝜇 ≠ 𝜇0\n",
    "\n",
    "Step 2: Determine the significance level\n",
    "The significance level (α) is 0.10, corresponding to a 90% confidence level.\n",
    "\n",
    "Step 3: Collect and summarize the data\n",
    "Given data:\n",
    "Sample size (n) = 30\n",
    "Sample mean reaction time (xˉ) = 0.25 seconds\n",
    "Sample standard deviation (s) = 0.05 seconds\n",
    "\n",
    "Step 4: Calculate the test statistic"
   ]
  }
 ],
 "metadata": {
  "kernelspec": {
   "display_name": "Python 3 (ipykernel)",
   "language": "python",
   "name": "python3"
  },
  "language_info": {
   "codemirror_mode": {
    "name": "ipython",
    "version": 3
   },
   "file_extension": ".py",
   "mimetype": "text/x-python",
   "name": "python",
   "nbconvert_exporter": "python",
   "pygments_lexer": "ipython3",
   "version": "3.10.8"
  }
 },
 "nbformat": 4,
 "nbformat_minor": 5
}
